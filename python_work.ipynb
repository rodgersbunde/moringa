{
 "cells": [
  {
   "cell_type": "code",
   "execution_count": 3,
   "id": "df316f96",
   "metadata": {},
   "outputs": [
    {
     "name": "stdout",
     "output_type": "stream",
     "text": [
      "Hello world!\n",
      "Hello sun!\n",
      "Hello sky!\n"
     ]
    }
   ],
   "source": [
    "# Standard print() Statements\n",
    "print(\"Hello world!\")\n",
    "print(\"Hello sun!\")\n",
    "print(\"Hello sky!\")"
   ]
  },
  {
   "cell_type": "code",
   "execution_count": 2,
   "id": "3c25c421",
   "metadata": {},
   "outputs": [
    {
     "name": "stdout",
     "output_type": "stream",
     "text": [
      "Hello world! Hello sun!!! Hello sky!!!!\n"
     ]
    }
   ],
   "source": [
    "#Choosing your own print() Ending\n",
    "print(\"Hello world!\", end=\" \")\n",
    "print(\"Hello sun!\", end=\"!! \")\n",
    "print(\"Hello sky!\", end=\"!!!\\n\")"
   ]
  },
  {
   "cell_type": "code",
   "execution_count": 1,
   "id": "b599a62d",
   "metadata": {},
   "outputs": [],
   "source": [
    "import pandas as pd \n",
    "import numpy as np\n"
   ]
  },
  {
   "cell_type": "code",
   "execution_count": null,
   "id": "2a2e8713",
   "metadata": {},
   "outputs": [],
   "source": []
  },
  {
   "cell_type": "code",
   "execution_count": 21,
   "id": "7be58d1c",
   "metadata": {},
   "outputs": [
    {
     "data": {
      "text/html": [
       "<div>\n",
       "<style scoped>\n",
       "    .dataframe tbody tr th:only-of-type {\n",
       "        vertical-align: middle;\n",
       "    }\n",
       "\n",
       "    .dataframe tbody tr th {\n",
       "        vertical-align: top;\n",
       "    }\n",
       "\n",
       "    .dataframe thead th {\n",
       "        text-align: right;\n",
       "    }\n",
       "</style>\n",
       "<table border=\"1\" class=\"dataframe\">\n",
       "  <thead>\n",
       "    <tr style=\"text-align: right;\">\n",
       "      <th></th>\n",
       "      <th>VisitCode</th>\n",
       "      <th>PatientCode</th>\n",
       "      <th>VisitDateTime</th>\n",
       "      <th>MedicalCenter</th>\n",
       "      <th>VisitCategory</th>\n",
       "      <th>Payor</th>\n",
       "      <th>NPS Score</th>\n",
       "      <th>Amount</th>\n",
       "      <th>Diagnosis</th>\n",
       "    </tr>\n",
       "  </thead>\n",
       "  <tbody>\n",
       "    <tr>\n",
       "      <th>0</th>\n",
       "      <td>XA-1124501</td>\n",
       "      <td>38af25ef-37a9</td>\n",
       "      <td>22/05/2022 08:51</td>\n",
       "      <td>Tassia</td>\n",
       "      <td>In-person Visit</td>\n",
       "      <td>Cash</td>\n",
       "      <td>NaN</td>\n",
       "      <td>195</td>\n",
       "      <td>acute rhinitis</td>\n",
       "    </tr>\n",
       "    <tr>\n",
       "      <th>1</th>\n",
       "      <td>XA-1220993</td>\n",
       "      <td>15ac7a77-8153</td>\n",
       "      <td>07/09/2022 10:56</td>\n",
       "      <td>Tassia</td>\n",
       "      <td>In-person Visit</td>\n",
       "      <td>Cash</td>\n",
       "      <td>NaN</td>\n",
       "      <td>195</td>\n",
       "      <td>acute bronchitis</td>\n",
       "    </tr>\n",
       "    <tr>\n",
       "      <th>2</th>\n",
       "      <td>XA-1079995</td>\n",
       "      <td>173f581e-c323</td>\n",
       "      <td>24/03/2022 17:17</td>\n",
       "      <td>Tassia</td>\n",
       "      <td>In-person Visit</td>\n",
       "      <td>Cash</td>\n",
       "      <td>NaN</td>\n",
       "      <td>195</td>\n",
       "      <td>family planning</td>\n",
       "    </tr>\n",
       "    <tr>\n",
       "      <th>3</th>\n",
       "      <td>XA-1188078</td>\n",
       "      <td>c464fa34-e7f2</td>\n",
       "      <td>27/07/2022 05:54</td>\n",
       "      <td>Tassia</td>\n",
       "      <td>In-person Visit</td>\n",
       "      <td>Cash</td>\n",
       "      <td>NaN</td>\n",
       "      <td>195</td>\n",
       "      <td>acute bronchitis</td>\n",
       "    </tr>\n",
       "    <tr>\n",
       "      <th>4</th>\n",
       "      <td>XA-1220192</td>\n",
       "      <td>7b8216fe-ff14</td>\n",
       "      <td>06/09/2022 12:28</td>\n",
       "      <td>Tassia</td>\n",
       "      <td>In-person Visit</td>\n",
       "      <td>Cash</td>\n",
       "      <td>NaN</td>\n",
       "      <td>195</td>\n",
       "      <td>tonsillitis, acute bacterial</td>\n",
       "    </tr>\n",
       "  </tbody>\n",
       "</table>\n",
       "</div>"
      ],
      "text/plain": [
       "    VisitCode    PatientCode     VisitDateTime MedicalCenter    VisitCategory  \\\n",
       "0  XA-1124501  38af25ef-37a9  22/05/2022 08:51        Tassia  In-person Visit   \n",
       "1  XA-1220993  15ac7a77-8153  07/09/2022 10:56        Tassia  In-person Visit   \n",
       "2  XA-1079995  173f581e-c323  24/03/2022 17:17        Tassia  In-person Visit   \n",
       "3  XA-1188078  c464fa34-e7f2  27/07/2022 05:54        Tassia  In-person Visit   \n",
       "4  XA-1220192  7b8216fe-ff14  06/09/2022 12:28        Tassia  In-person Visit   \n",
       "\n",
       "  Payor  NPS Score  Amount                     Diagnosis  \n",
       "0  Cash        NaN     195                acute rhinitis  \n",
       "1  Cash        NaN     195              acute bronchitis  \n",
       "2  Cash        NaN     195               family planning  \n",
       "3  Cash        NaN     195              acute bronchitis  \n",
       "4  Cash        NaN     195  tonsillitis, acute bacterial  "
      ]
     },
     "execution_count": 21,
     "metadata": {},
     "output_type": "execute_result"
    }
   ],
   "source": [
    "df=pd.read_csv(r'C:\\Users\\odhiambo rodgers bon\\Documents\\Visit_Data_2023.csv')\n",
    "df.head()"
   ]
  },
  {
   "cell_type": "code",
   "execution_count": 22,
   "id": "b5c4f901",
   "metadata": {},
   "outputs": [
    {
     "ename": "TypeError",
     "evalue": "'float' object is not subscriptable",
     "output_type": "error",
     "traceback": [
      "\u001b[1;31m---------------------------------------------------------------------------\u001b[0m",
      "\u001b[1;31mTypeError\u001b[0m                                 Traceback (most recent call last)",
      "Cell \u001b[1;32mIn[22], line 1\u001b[0m\n\u001b[1;32m----> 1\u001b[0m df[\u001b[38;5;124m'\u001b[39m\u001b[38;5;124mVisitDateTime\u001b[39m\u001b[38;5;124m'\u001b[39m]\u001b[38;5;241m.\u001b[39mmap(\u001b[38;5;28;01mlambda\u001b[39;00m x: x[\u001b[38;5;241m3\u001b[39m:\u001b[38;5;241m7\u001b[39m])\u001b[38;5;241m.\u001b[39mhead()\n",
      "File \u001b[1;32m~\\Documents\\Anaconda\\Lib\\site-packages\\pandas\\core\\series.py:4397\u001b[0m, in \u001b[0;36mSeries.map\u001b[1;34m(self, arg, na_action)\u001b[0m\n\u001b[0;32m   4318\u001b[0m \u001b[38;5;28;01mdef\u001b[39;00m \u001b[38;5;21mmap\u001b[39m(\n\u001b[0;32m   4319\u001b[0m     \u001b[38;5;28mself\u001b[39m,\n\u001b[0;32m   4320\u001b[0m     arg: Callable \u001b[38;5;241m|\u001b[39m Mapping \u001b[38;5;241m|\u001b[39m Series,\n\u001b[0;32m   4321\u001b[0m     na_action: Literal[\u001b[38;5;124m\"\u001b[39m\u001b[38;5;124mignore\u001b[39m\u001b[38;5;124m\"\u001b[39m] \u001b[38;5;241m|\u001b[39m \u001b[38;5;28;01mNone\u001b[39;00m \u001b[38;5;241m=\u001b[39m \u001b[38;5;28;01mNone\u001b[39;00m,\n\u001b[0;32m   4322\u001b[0m ) \u001b[38;5;241m-\u001b[39m\u001b[38;5;241m>\u001b[39m Series:\n\u001b[0;32m   4323\u001b[0m \u001b[38;5;250m    \u001b[39m\u001b[38;5;124;03m\"\"\"\u001b[39;00m\n\u001b[0;32m   4324\u001b[0m \u001b[38;5;124;03m    Map values of Series according to an input mapping or function.\u001b[39;00m\n\u001b[0;32m   4325\u001b[0m \n\u001b[1;32m   (...)\u001b[0m\n\u001b[0;32m   4395\u001b[0m \u001b[38;5;124;03m    dtype: object\u001b[39;00m\n\u001b[0;32m   4396\u001b[0m \u001b[38;5;124;03m    \"\"\"\u001b[39;00m\n\u001b[1;32m-> 4397\u001b[0m     new_values \u001b[38;5;241m=\u001b[39m \u001b[38;5;28mself\u001b[39m\u001b[38;5;241m.\u001b[39m_map_values(arg, na_action\u001b[38;5;241m=\u001b[39mna_action)\n\u001b[0;32m   4398\u001b[0m     \u001b[38;5;28;01mreturn\u001b[39;00m \u001b[38;5;28mself\u001b[39m\u001b[38;5;241m.\u001b[39m_constructor(new_values, index\u001b[38;5;241m=\u001b[39m\u001b[38;5;28mself\u001b[39m\u001b[38;5;241m.\u001b[39mindex, copy\u001b[38;5;241m=\u001b[39m\u001b[38;5;28;01mFalse\u001b[39;00m)\u001b[38;5;241m.\u001b[39m__finalize__(\n\u001b[0;32m   4399\u001b[0m         \u001b[38;5;28mself\u001b[39m, method\u001b[38;5;241m=\u001b[39m\u001b[38;5;124m\"\u001b[39m\u001b[38;5;124mmap\u001b[39m\u001b[38;5;124m\"\u001b[39m\n\u001b[0;32m   4400\u001b[0m     )\n",
      "File \u001b[1;32m~\\Documents\\Anaconda\\Lib\\site-packages\\pandas\\core\\base.py:924\u001b[0m, in \u001b[0;36mIndexOpsMixin._map_values\u001b[1;34m(self, mapper, na_action)\u001b[0m\n\u001b[0;32m    921\u001b[0m         \u001b[38;5;28;01mraise\u001b[39;00m \u001b[38;5;167;01mValueError\u001b[39;00m(msg)\n\u001b[0;32m    923\u001b[0m \u001b[38;5;66;03m# mapper is a function\u001b[39;00m\n\u001b[1;32m--> 924\u001b[0m new_values \u001b[38;5;241m=\u001b[39m map_f(values, mapper)\n\u001b[0;32m    926\u001b[0m \u001b[38;5;28;01mreturn\u001b[39;00m new_values\n",
      "File \u001b[1;32m~\\Documents\\Anaconda\\Lib\\site-packages\\pandas\\_libs\\lib.pyx:2834\u001b[0m, in \u001b[0;36mpandas._libs.lib.map_infer\u001b[1;34m()\u001b[0m\n",
      "Cell \u001b[1;32mIn[22], line 1\u001b[0m, in \u001b[0;36m<lambda>\u001b[1;34m(x)\u001b[0m\n\u001b[1;32m----> 1\u001b[0m df[\u001b[38;5;124m'\u001b[39m\u001b[38;5;124mVisitDateTime\u001b[39m\u001b[38;5;124m'\u001b[39m]\u001b[38;5;241m.\u001b[39mmap(\u001b[38;5;28;01mlambda\u001b[39;00m x: x[\u001b[38;5;241m3\u001b[39m:\u001b[38;5;241m7\u001b[39m])\u001b[38;5;241m.\u001b[39mhead()\n",
      "\u001b[1;31mTypeError\u001b[0m: 'float' object is not subscriptable"
     ]
    }
   ],
   "source": [
    "df['VisitDateTime'].map(lambda x: x[3:7]).head()\n"
   ]
  },
  {
   "cell_type": "code",
   "execution_count": 24,
   "id": "5b8d5404",
   "metadata": {},
   "outputs": [
    {
     "data": {
      "text/html": [
       "<div>\n",
       "<style scoped>\n",
       "    .dataframe tbody tr th:only-of-type {\n",
       "        vertical-align: middle;\n",
       "    }\n",
       "\n",
       "    .dataframe tbody tr th {\n",
       "        vertical-align: top;\n",
       "    }\n",
       "\n",
       "    .dataframe thead th {\n",
       "        text-align: right;\n",
       "    }\n",
       "</style>\n",
       "<table border=\"1\" class=\"dataframe\">\n",
       "  <thead>\n",
       "    <tr style=\"text-align: right;\">\n",
       "      <th></th>\n",
       "      <th>VisitCode</th>\n",
       "      <th>PatientCode</th>\n",
       "      <th>VisitDateTime</th>\n",
       "      <th>MedicalCenter</th>\n",
       "      <th>VisitCategory</th>\n",
       "      <th>Payor</th>\n",
       "      <th>NPS Score</th>\n",
       "      <th>Amount</th>\n",
       "      <th>Diagnosis</th>\n",
       "      <th>Month</th>\n",
       "    </tr>\n",
       "  </thead>\n",
       "  <tbody>\n",
       "    <tr>\n",
       "      <th>0</th>\n",
       "      <td>XA-1124501</td>\n",
       "      <td>38af25ef-37a9</td>\n",
       "      <td>22/05/2022 08:51</td>\n",
       "      <td>Tassia</td>\n",
       "      <td>In-person Visit</td>\n",
       "      <td>Cash</td>\n",
       "      <td>NaN</td>\n",
       "      <td>195</td>\n",
       "      <td>acute rhinitis</td>\n",
       "      <td>5.0</td>\n",
       "    </tr>\n",
       "    <tr>\n",
       "      <th>1</th>\n",
       "      <td>XA-1220993</td>\n",
       "      <td>15ac7a77-8153</td>\n",
       "      <td>07/09/2022 10:56</td>\n",
       "      <td>Tassia</td>\n",
       "      <td>In-person Visit</td>\n",
       "      <td>Cash</td>\n",
       "      <td>NaN</td>\n",
       "      <td>195</td>\n",
       "      <td>acute bronchitis</td>\n",
       "      <td>9.0</td>\n",
       "    </tr>\n",
       "    <tr>\n",
       "      <th>2</th>\n",
       "      <td>XA-1079995</td>\n",
       "      <td>173f581e-c323</td>\n",
       "      <td>24/03/2022 17:17</td>\n",
       "      <td>Tassia</td>\n",
       "      <td>In-person Visit</td>\n",
       "      <td>Cash</td>\n",
       "      <td>NaN</td>\n",
       "      <td>195</td>\n",
       "      <td>family planning</td>\n",
       "      <td>3.0</td>\n",
       "    </tr>\n",
       "    <tr>\n",
       "      <th>3</th>\n",
       "      <td>XA-1188078</td>\n",
       "      <td>c464fa34-e7f2</td>\n",
       "      <td>27/07/2022 05:54</td>\n",
       "      <td>Tassia</td>\n",
       "      <td>In-person Visit</td>\n",
       "      <td>Cash</td>\n",
       "      <td>NaN</td>\n",
       "      <td>195</td>\n",
       "      <td>acute bronchitis</td>\n",
       "      <td>7.0</td>\n",
       "    </tr>\n",
       "    <tr>\n",
       "      <th>4</th>\n",
       "      <td>XA-1220192</td>\n",
       "      <td>7b8216fe-ff14</td>\n",
       "      <td>06/09/2022 12:28</td>\n",
       "      <td>Tassia</td>\n",
       "      <td>In-person Visit</td>\n",
       "      <td>Cash</td>\n",
       "      <td>NaN</td>\n",
       "      <td>195</td>\n",
       "      <td>tonsillitis, acute bacterial</td>\n",
       "      <td>9.0</td>\n",
       "    </tr>\n",
       "  </tbody>\n",
       "</table>\n",
       "</div>"
      ],
      "text/plain": [
       "    VisitCode    PatientCode     VisitDateTime MedicalCenter    VisitCategory  \\\n",
       "0  XA-1124501  38af25ef-37a9  22/05/2022 08:51        Tassia  In-person Visit   \n",
       "1  XA-1220993  15ac7a77-8153  07/09/2022 10:56        Tassia  In-person Visit   \n",
       "2  XA-1079995  173f581e-c323  24/03/2022 17:17        Tassia  In-person Visit   \n",
       "3  XA-1188078  c464fa34-e7f2  27/07/2022 05:54        Tassia  In-person Visit   \n",
       "4  XA-1220192  7b8216fe-ff14  06/09/2022 12:28        Tassia  In-person Visit   \n",
       "\n",
       "  Payor  NPS Score  Amount                     Diagnosis  Month  \n",
       "0  Cash        NaN     195                acute rhinitis    5.0  \n",
       "1  Cash        NaN     195              acute bronchitis    9.0  \n",
       "2  Cash        NaN     195               family planning    3.0  \n",
       "3  Cash        NaN     195              acute bronchitis    7.0  \n",
       "4  Cash        NaN     195  tonsillitis, acute bacterial    9.0  "
      ]
     },
     "execution_count": 24,
     "metadata": {},
     "output_type": "execute_result"
    }
   ],
   "source": [
    "df['Month'] = df['VisitDateTime'].apply(lambda x: pd.to_datetime(x, format='%d/%m/%Y %H:%M').month)\n",
    "df.head()"
   ]
  },
  {
   "cell_type": "code",
   "execution_count": 3,
   "id": "922e796f",
   "metadata": {},
   "outputs": [
    {
     "name": "stdout",
     "output_type": "stream",
     "text": [
      "<class 'pandas.core.frame.DataFrame'>\n",
      "RangeIndex: 46005 entries, 0 to 46004\n",
      "Data columns (total 9 columns):\n",
      " #   Column         Non-Null Count  Dtype  \n",
      "---  ------         --------------  -----  \n",
      " 0   VisitCode      45226 non-null  object \n",
      " 1   PatientCode    45226 non-null  object \n",
      " 2   VisitDateTime  45226 non-null  object \n",
      " 3   MedicalCenter  45226 non-null  object \n",
      " 4   VisitCategory  45226 non-null  object \n",
      " 5   Payor          45226 non-null  object \n",
      " 6   NPS Score      1928 non-null   float64\n",
      " 7   Amount         46005 non-null  int64  \n",
      " 8   Diagnosis      21860 non-null  object \n",
      "dtypes: float64(1), int64(1), object(7)\n",
      "memory usage: 3.2+ MB\n"
     ]
    }
   ],
   "source": [
    "df.info()"
   ]
  },
  {
   "cell_type": "code",
   "execution_count": 4,
   "id": "f6e77516",
   "metadata": {},
   "outputs": [
    {
     "data": {
      "text/plain": [
       "VisitCode          779\n",
       "PatientCode        779\n",
       "VisitDateTime      779\n",
       "MedicalCenter      779\n",
       "VisitCategory      779\n",
       "Payor              779\n",
       "NPS Score        44077\n",
       "Amount               0\n",
       "Diagnosis        24145\n",
       "dtype: int64"
      ]
     },
     "execution_count": 4,
     "metadata": {},
     "output_type": "execute_result"
    }
   ],
   "source": [
    "df.isna().sum()"
   ]
  },
  {
   "cell_type": "code",
   "execution_count": 26,
   "id": "e906c8b2",
   "metadata": {},
   "outputs": [
    {
     "data": {
      "text/html": [
       "<div>\n",
       "<style scoped>\n",
       "    .dataframe tbody tr th:only-of-type {\n",
       "        vertical-align: middle;\n",
       "    }\n",
       "\n",
       "    .dataframe tbody tr th {\n",
       "        vertical-align: top;\n",
       "    }\n",
       "\n",
       "    .dataframe thead th {\n",
       "        text-align: right;\n",
       "    }\n",
       "</style>\n",
       "<table border=\"1\" class=\"dataframe\">\n",
       "  <thead>\n",
       "    <tr style=\"text-align: right;\">\n",
       "      <th></th>\n",
       "      <th>VisitCode</th>\n",
       "      <th>PatientCode</th>\n",
       "      <th>VisitDateTime</th>\n",
       "      <th>MedicalCenter</th>\n",
       "      <th>VisitCategory</th>\n",
       "      <th>Payor</th>\n",
       "      <th>NPS Score</th>\n",
       "      <th>Amount</th>\n",
       "      <th>Diagnosis</th>\n",
       "    </tr>\n",
       "  </thead>\n",
       "  <tbody>\n",
       "    <tr>\n",
       "      <th>0</th>\n",
       "      <td>False</td>\n",
       "      <td>False</td>\n",
       "      <td>False</td>\n",
       "      <td>False</td>\n",
       "      <td>False</td>\n",
       "      <td>False</td>\n",
       "      <td>True</td>\n",
       "      <td>False</td>\n",
       "      <td>False</td>\n",
       "    </tr>\n",
       "    <tr>\n",
       "      <th>1</th>\n",
       "      <td>False</td>\n",
       "      <td>False</td>\n",
       "      <td>False</td>\n",
       "      <td>False</td>\n",
       "      <td>False</td>\n",
       "      <td>False</td>\n",
       "      <td>True</td>\n",
       "      <td>False</td>\n",
       "      <td>False</td>\n",
       "    </tr>\n",
       "    <tr>\n",
       "      <th>2</th>\n",
       "      <td>False</td>\n",
       "      <td>False</td>\n",
       "      <td>False</td>\n",
       "      <td>False</td>\n",
       "      <td>False</td>\n",
       "      <td>False</td>\n",
       "      <td>True</td>\n",
       "      <td>False</td>\n",
       "      <td>False</td>\n",
       "    </tr>\n",
       "    <tr>\n",
       "      <th>3</th>\n",
       "      <td>False</td>\n",
       "      <td>False</td>\n",
       "      <td>False</td>\n",
       "      <td>False</td>\n",
       "      <td>False</td>\n",
       "      <td>False</td>\n",
       "      <td>True</td>\n",
       "      <td>False</td>\n",
       "      <td>False</td>\n",
       "    </tr>\n",
       "    <tr>\n",
       "      <th>4</th>\n",
       "      <td>False</td>\n",
       "      <td>False</td>\n",
       "      <td>False</td>\n",
       "      <td>False</td>\n",
       "      <td>False</td>\n",
       "      <td>False</td>\n",
       "      <td>True</td>\n",
       "      <td>False</td>\n",
       "      <td>False</td>\n",
       "    </tr>\n",
       "    <tr>\n",
       "      <th>...</th>\n",
       "      <td>...</td>\n",
       "      <td>...</td>\n",
       "      <td>...</td>\n",
       "      <td>...</td>\n",
       "      <td>...</td>\n",
       "      <td>...</td>\n",
       "      <td>...</td>\n",
       "      <td>...</td>\n",
       "      <td>...</td>\n",
       "    </tr>\n",
       "    <tr>\n",
       "      <th>46000</th>\n",
       "      <td>True</td>\n",
       "      <td>True</td>\n",
       "      <td>True</td>\n",
       "      <td>True</td>\n",
       "      <td>True</td>\n",
       "      <td>True</td>\n",
       "      <td>True</td>\n",
       "      <td>False</td>\n",
       "      <td>True</td>\n",
       "    </tr>\n",
       "    <tr>\n",
       "      <th>46001</th>\n",
       "      <td>True</td>\n",
       "      <td>True</td>\n",
       "      <td>True</td>\n",
       "      <td>True</td>\n",
       "      <td>True</td>\n",
       "      <td>True</td>\n",
       "      <td>True</td>\n",
       "      <td>False</td>\n",
       "      <td>True</td>\n",
       "    </tr>\n",
       "    <tr>\n",
       "      <th>46002</th>\n",
       "      <td>True</td>\n",
       "      <td>True</td>\n",
       "      <td>True</td>\n",
       "      <td>True</td>\n",
       "      <td>True</td>\n",
       "      <td>True</td>\n",
       "      <td>True</td>\n",
       "      <td>False</td>\n",
       "      <td>True</td>\n",
       "    </tr>\n",
       "    <tr>\n",
       "      <th>46003</th>\n",
       "      <td>True</td>\n",
       "      <td>True</td>\n",
       "      <td>True</td>\n",
       "      <td>True</td>\n",
       "      <td>True</td>\n",
       "      <td>True</td>\n",
       "      <td>True</td>\n",
       "      <td>False</td>\n",
       "      <td>True</td>\n",
       "    </tr>\n",
       "    <tr>\n",
       "      <th>46004</th>\n",
       "      <td>True</td>\n",
       "      <td>True</td>\n",
       "      <td>True</td>\n",
       "      <td>True</td>\n",
       "      <td>True</td>\n",
       "      <td>True</td>\n",
       "      <td>True</td>\n",
       "      <td>False</td>\n",
       "      <td>True</td>\n",
       "    </tr>\n",
       "  </tbody>\n",
       "</table>\n",
       "<p>46005 rows × 9 columns</p>\n",
       "</div>"
      ],
      "text/plain": [
       "       VisitCode  PatientCode  VisitDateTime  MedicalCenter  VisitCategory  \\\n",
       "0          False        False          False          False          False   \n",
       "1          False        False          False          False          False   \n",
       "2          False        False          False          False          False   \n",
       "3          False        False          False          False          False   \n",
       "4          False        False          False          False          False   \n",
       "...          ...          ...            ...            ...            ...   \n",
       "46000       True         True           True           True           True   \n",
       "46001       True         True           True           True           True   \n",
       "46002       True         True           True           True           True   \n",
       "46003       True         True           True           True           True   \n",
       "46004       True         True           True           True           True   \n",
       "\n",
       "       Payor  NPS Score  Amount  Diagnosis  \n",
       "0      False       True   False      False  \n",
       "1      False       True   False      False  \n",
       "2      False       True   False      False  \n",
       "3      False       True   False      False  \n",
       "4      False       True   False      False  \n",
       "...      ...        ...     ...        ...  \n",
       "46000   True       True   False       True  \n",
       "46001   True       True   False       True  \n",
       "46002   True       True   False       True  \n",
       "46003   True       True   False       True  \n",
       "46004   True       True   False       True  \n",
       "\n",
       "[46005 rows x 9 columns]"
      ]
     },
     "execution_count": 26,
     "metadata": {},
     "output_type": "execute_result"
    }
   ],
   "source": [
    "df.isna()"
   ]
  },
  {
   "cell_type": "code",
   "execution_count": 5,
   "id": "0f432728",
   "metadata": {},
   "outputs": [
    {
     "data": {
      "text/html": [
       "<div>\n",
       "<style scoped>\n",
       "    .dataframe tbody tr th:only-of-type {\n",
       "        vertical-align: middle;\n",
       "    }\n",
       "\n",
       "    .dataframe tbody tr th {\n",
       "        vertical-align: top;\n",
       "    }\n",
       "\n",
       "    .dataframe thead th {\n",
       "        text-align: right;\n",
       "    }\n",
       "</style>\n",
       "<table border=\"1\" class=\"dataframe\">\n",
       "  <thead>\n",
       "    <tr style=\"text-align: right;\">\n",
       "      <th></th>\n",
       "      <th>NPS Score</th>\n",
       "      <th>Amount</th>\n",
       "    </tr>\n",
       "  </thead>\n",
       "  <tbody>\n",
       "    <tr>\n",
       "      <th>count</th>\n",
       "      <td>1928.000000</td>\n",
       "      <td>46005.000000</td>\n",
       "    </tr>\n",
       "    <tr>\n",
       "      <th>mean</th>\n",
       "      <td>8.872407</td>\n",
       "      <td>1665.225649</td>\n",
       "    </tr>\n",
       "    <tr>\n",
       "      <th>std</th>\n",
       "      <td>2.468548</td>\n",
       "      <td>1605.440638</td>\n",
       "    </tr>\n",
       "    <tr>\n",
       "      <th>min</th>\n",
       "      <td>0.000000</td>\n",
       "      <td>0.000000</td>\n",
       "    </tr>\n",
       "    <tr>\n",
       "      <th>25%</th>\n",
       "      <td>9.000000</td>\n",
       "      <td>300.000000</td>\n",
       "    </tr>\n",
       "    <tr>\n",
       "      <th>50%</th>\n",
       "      <td>10.000000</td>\n",
       "      <td>1280.000000</td>\n",
       "    </tr>\n",
       "    <tr>\n",
       "      <th>75%</th>\n",
       "      <td>10.000000</td>\n",
       "      <td>2425.000000</td>\n",
       "    </tr>\n",
       "    <tr>\n",
       "      <th>max</th>\n",
       "      <td>11.000000</td>\n",
       "      <td>20059.000000</td>\n",
       "    </tr>\n",
       "  </tbody>\n",
       "</table>\n",
       "</div>"
      ],
      "text/plain": [
       "         NPS Score        Amount\n",
       "count  1928.000000  46005.000000\n",
       "mean      8.872407   1665.225649\n",
       "std       2.468548   1605.440638\n",
       "min       0.000000      0.000000\n",
       "25%       9.000000    300.000000\n",
       "50%      10.000000   1280.000000\n",
       "75%      10.000000   2425.000000\n",
       "max      11.000000  20059.000000"
      ]
     },
     "execution_count": 5,
     "metadata": {},
     "output_type": "execute_result"
    }
   ],
   "source": [
    "df.describe()"
   ]
  },
  {
   "cell_type": "code",
   "execution_count": 11,
   "id": "3ff861bb",
   "metadata": {},
   "outputs": [
    {
     "name": "stdout",
     "output_type": "stream",
     "text": [
      "mean       8.872407\n",
      "median    10.000000\n",
      "std        2.468548\n",
      "Name: NPS Score, dtype: float64\n"
     ]
    },
    {
     "data": {
      "text/plain": [
       "<Axes: >"
      ]
     },
     "execution_count": 11,
     "metadata": {},
     "output_type": "execute_result"
    },
    {
     "data": {
      "image/png": "[encoded data removed]",
      "text/plain": [
       "<Figure size 640x480 with 1 Axes>"
      ]
     },
     "metadata": {},
     "output_type": "display_data"
    }
   ],
   "source": [
    "#Calculate the mean, median, and standard deviation of this feature.\n",
    "print(df['NPS Score'].apply(['mean','median','std']))\n",
    "df['NPS Score'].hist()"
   ]
  },
  {
   "cell_type": "code",
   "execution_count": 18,
   "id": "2afa8473",
   "metadata": {},
   "outputs": [
    {
     "name": "stdout",
     "output_type": "stream",
     "text": [
      "mean       8.872407\n",
      "median    10.000000\n",
      "std        2.468548\n",
      "Name: NPS Score, dtype: float64\n"
     ]
    },
    {
     "data": {
      "text/plain": [
       "<Axes: >"
      ]
     },
     "execution_count": 18,
     "metadata": {},
     "output_type": "execute_result"
    },
    {
     "data": {
      "image/png": "[encoded data removed]",
      "text/plain": [
       "<Figure size 640x480 with 1 Axes>"
      ]
     },
     "metadata": {},
     "output_type": "display_data"
    }
   ],
   "source": [
    "#Fill missing value in NPS score using mean\n",
    "#Then recalculate the mean, median, and std and replot the histogram.\n",
    "\n",
    "df_NPS_Score= df['NPS Score'].fillna(value=df['NPS Score'].mean())\n",
    "print(df['NPS Score'].apply(['mean','median','std']))\n",
    "df_NPS_Score.hist()"
   ]
  },
  {
   "cell_type": "code",
   "execution_count": 16,
   "id": "58a6342e",
   "metadata": {},
   "outputs": [
    {
     "name": "stdout",
     "output_type": "stream",
     "text": [
      "mean       8.872407\n",
      "median    10.000000\n",
      "std        2.468548\n",
      "Name: NPS Score, dtype: float64\n"
     ]
    },
    {
     "data": {
      "text/plain": [
       "<Axes: >"
      ]
     },
     "execution_count": 16,
     "metadata": {},
     "output_type": "execute_result"
    },
    {
     "data": {
      "image/png": "[encoded data removed]",
      "text/plain": [
       "<Figure size 640x480 with 1 Axes>"
      ]
     },
     "metadata": {},
     "output_type": "display_data"
    }
   ],
   "source": [
    "#drop all of the rows that are missing an NPS score value\n",
    "df_NPS_score= df[~df['NPS Score'].isnull()]['NPS Score']\n",
    "print(df_NPS_score.apply(['mean','median','std']))\n",
    "df_NPS_score.hist()\n"
   ]
  },
  {
   "cell_type": "code",
   "execution_count": null,
   "id": "4bba6bac",
   "metadata": {},
   "outputs": [],
   "source": []
  }
 ],
 "metadata": {
  "kernelspec": {
   "display_name": "Python 3 (ipykernel)",
   "language": "python",
   "name": "python3"
  },
  "language_info": {
   "codemirror_mode": {
    "name": "ipython",
    "version": 3
   },
   "file_extension": ".py",
   "mimetype": "text/x-python",
   "name": "python",
   "nbconvert_exporter": "python",
   "pygments_lexer": "ipython3",
   "version": "3.11.5"
  }
 },
 "nbformat": 4,
 "nbformat_minor": 5
}
