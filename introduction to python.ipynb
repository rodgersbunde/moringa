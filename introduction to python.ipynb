{
 "cells": [
  {
   "cell_type": "code",
   "execution_count": 3,
   "id": "5b749016",
   "metadata": {},
   "outputs": [
    {
     "name": "stdout",
     "output_type": "stream",
     "text": [
      "Hello world!\n",
      "Hello sun!\n",
      "Hello sky!\n"
     ]
    }
   ],
   "source": [
    "# Standard print() Statements\n",
    "print(\"Hello world!\")\n",
    "print(\"Hello sun!\")\n",
    "print(\"Hello sky!\")"
   ]
  },
  {
   "cell_type": "code",
   "execution_count": null,
   "id": "7d0c35cc",
   "metadata": {},
   "outputs": [],
   "source": []
  },
  {
   "cell_type": "code",
   "execution_count": 2,
   "id": "90b2e142",
   "metadata": {},
   "outputs": [
    {
     "name": "stdout",
     "output_type": "stream",
     "text": [
      "Hello world! Hello sun!!! Hello sky!!!!\n"
     ]
    }
   ],
   "source": [
    "#Choosing your own print() Ending\n",
    "print(\"Hello world!\", end=\" \")\n",
    "print(\"Hello sun!\", end=\"!! \")\n",
    "print(\"Hello sky!\", end=\"!!!\\n\")"
   ]
  }
 ],
 "metadata": {
  "kernelspec": {
   "display_name": "Python 3 (ipykernel)",
   "language": "python",
   "name": "python3"
  },
  "language_info": {
   "codemirror_mode": {
    "name": "ipython",
    "version": 3
   },
   "file_extension": ".py",
   "mimetype": "text/x-python",
   "name": "python",
   "nbconvert_exporter": "python",
   "pygments_lexer": "ipython3",
   "version": "3.11.4"
  }
 },
 "nbformat": 4,
 "nbformat_minor": 5
}
